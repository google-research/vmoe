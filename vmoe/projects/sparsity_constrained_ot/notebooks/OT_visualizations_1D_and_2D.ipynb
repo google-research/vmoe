{
  "cells": [
    {
      "cell_type": "markdown",
      "source": [
        "We draw examples from here:\n",
        "\n",
        "- https://pythonot.github.io/auto_examples/plot_OT_1D_smooth.html\n",
        "- https://pythonot.github.io/auto_examples/plot_OT_2D_samples.html\n",
        "- https://github.com/mblondel/smooth-ot/tree/master/examples/color-transfer"
      ],
      "metadata": {
        "id": "AhpUbTVYHNUN"
      }
    },
    {
      "cell_type": "code",
      "source": [
        "%matplotlib inline\n",
        "\n",
        "from google.colab import files\n",
        "\n",
        "!pip install -q POT\n",
        "!pip install git+https://github.com/google/jaxopt\n",
        "\n",
        "import jax.numpy as jnp\n",
        "\n",
        "import numpy as np\n",
        "import matplotlib.pylab as pl\n",
        "import ot\n",
        "import ot.plot\n",
        "from ot.datasets import make_1D_gauss as gauss\n",
        "from jaxopt import LBFGS\n",
        "import matplotlib as mpl\n",
        "# mpl.use('pdf')\n",
        "import matplotlib.pyplot as plt\n"
      ],
      "metadata": {
        "id": "mo60a4sGb0v-",
        "colab": {
          "base_uri": "https://localhost:8080/"
        },
        "outputId": "3a0e3fdc-7b63-4922-fdcf-3237e695c4eb"
      },
      "execution_count": null,
      "outputs": [
        {
          "output_type": "stream",
          "name": "stdout",
          "text": [
            "\u001b[?25l\r\u001b[K     |▌                               | 10 kB 8.9 MB/s eta 0:00:01\r\u001b[K     |█                               | 20 kB 3.9 MB/s eta 0:00:01\r\u001b[K     |█▌                              | 30 kB 5.6 MB/s eta 0:00:01\r\u001b[K     |██                              | 40 kB 5.7 MB/s eta 0:00:01\r\u001b[K     |██▌                             | 51 kB 6.4 MB/s eta 0:00:01\r\u001b[K     |███                             | 61 kB 7.4 MB/s eta 0:00:01\r\u001b[K     |███▌                            | 71 kB 7.6 MB/s eta 0:00:01\r\u001b[K     |████                            | 81 kB 8.3 MB/s eta 0:00:01\r\u001b[K     |████▍                           | 92 kB 8.9 MB/s eta 0:00:01\r\u001b[K     |█████                           | 102 kB 8.8 MB/s eta 0:00:01\r\u001b[K     |█████▍                          | 112 kB 8.8 MB/s eta 0:00:01\r\u001b[K     |██████                          | 122 kB 8.8 MB/s eta 0:00:01\r\u001b[K     |██████▍                         | 133 kB 8.8 MB/s eta 0:00:01\r\u001b[K     |███████                         | 143 kB 8.8 MB/s eta 0:00:01\r\u001b[K     |███████▍                        | 153 kB 8.8 MB/s eta 0:00:01\r\u001b[K     |███████▉                        | 163 kB 8.8 MB/s eta 0:00:01\r\u001b[K     |████████▍                       | 174 kB 8.8 MB/s eta 0:00:01\r\u001b[K     |████████▉                       | 184 kB 8.8 MB/s eta 0:00:01\r\u001b[K     |█████████▍                      | 194 kB 8.8 MB/s eta 0:00:01\r\u001b[K     |█████████▉                      | 204 kB 8.8 MB/s eta 0:00:01\r\u001b[K     |██████████▍                     | 215 kB 8.8 MB/s eta 0:00:01\r\u001b[K     |██████████▉                     | 225 kB 8.8 MB/s eta 0:00:01\r\u001b[K     |███████████▍                    | 235 kB 8.8 MB/s eta 0:00:01\r\u001b[K     |███████████▉                    | 245 kB 8.8 MB/s eta 0:00:01\r\u001b[K     |████████████▎                   | 256 kB 8.8 MB/s eta 0:00:01\r\u001b[K     |████████████▉                   | 266 kB 8.8 MB/s eta 0:00:01\r\u001b[K     |█████████████▎                  | 276 kB 8.8 MB/s eta 0:00:01\r\u001b[K     |█████████████▉                  | 286 kB 8.8 MB/s eta 0:00:01\r\u001b[K     |██████████████▎                 | 296 kB 8.8 MB/s eta 0:00:01\r\u001b[K     |██████████████▉                 | 307 kB 8.8 MB/s eta 0:00:01\r\u001b[K     |███████████████▎                | 317 kB 8.8 MB/s eta 0:00:01\r\u001b[K     |███████████████▊                | 327 kB 8.8 MB/s eta 0:00:01\r\u001b[K     |████████████████▎               | 337 kB 8.8 MB/s eta 0:00:01\r\u001b[K     |████████████████▊               | 348 kB 8.8 MB/s eta 0:00:01\r\u001b[K     |█████████████████▎              | 358 kB 8.8 MB/s eta 0:00:01\r\u001b[K     |█████████████████▊              | 368 kB 8.8 MB/s eta 0:00:01\r\u001b[K     |██████████████████▎             | 378 kB 8.8 MB/s eta 0:00:01\r\u001b[K     |██████████████████▊             | 389 kB 8.8 MB/s eta 0:00:01\r\u001b[K     |███████████████████▏            | 399 kB 8.8 MB/s eta 0:00:01\r\u001b[K     |███████████████████▊            | 409 kB 8.8 MB/s eta 0:00:01\r\u001b[K     |████████████████████▏           | 419 kB 8.8 MB/s eta 0:00:01\r\u001b[K     |████████████████████▊           | 430 kB 8.8 MB/s eta 0:00:01\r\u001b[K     |█████████████████████▏          | 440 kB 8.8 MB/s eta 0:00:01\r\u001b[K     |█████████████████████▊          | 450 kB 8.8 MB/s eta 0:00:01\r\u001b[K     |██████████████████████▏         | 460 kB 8.8 MB/s eta 0:00:01\r\u001b[K     |██████████████████████▊         | 471 kB 8.8 MB/s eta 0:00:01\r\u001b[K     |███████████████████████▏        | 481 kB 8.8 MB/s eta 0:00:01\r\u001b[K     |███████████████████████▋        | 491 kB 8.8 MB/s eta 0:00:01\r\u001b[K     |████████████████████████▏       | 501 kB 8.8 MB/s eta 0:00:01\r\u001b[K     |████████████████████████▋       | 512 kB 8.8 MB/s eta 0:00:01\r\u001b[K     |█████████████████████████▏      | 522 kB 8.8 MB/s eta 0:00:01\r\u001b[K     |█████████████████████████▋      | 532 kB 8.8 MB/s eta 0:00:01\r\u001b[K     |██████████████████████████▏     | 542 kB 8.8 MB/s eta 0:00:01\r\u001b[K     |██████████████████████████▋     | 552 kB 8.8 MB/s eta 0:00:01\r\u001b[K     |███████████████████████████     | 563 kB 8.8 MB/s eta 0:00:01\r\u001b[K     |███████████████████████████▋    | 573 kB 8.8 MB/s eta 0:00:01\r\u001b[K     |████████████████████████████    | 583 kB 8.8 MB/s eta 0:00:01\r\u001b[K     |████████████████████████████▋   | 593 kB 8.8 MB/s eta 0:00:01\r\u001b[K     |█████████████████████████████   | 604 kB 8.8 MB/s eta 0:00:01\r\u001b[K     |█████████████████████████████▋  | 614 kB 8.8 MB/s eta 0:00:01\r\u001b[K     |██████████████████████████████  | 624 kB 8.8 MB/s eta 0:00:01\r\u001b[K     |██████████████████████████████▌ | 634 kB 8.8 MB/s eta 0:00:01\r\u001b[K     |███████████████████████████████ | 645 kB 8.8 MB/s eta 0:00:01\r\u001b[K     |███████████████████████████████▌| 655 kB 8.8 MB/s eta 0:00:01\r\u001b[K     |████████████████████████████████| 664 kB 8.8 MB/s \n",
            "\u001b[?25hLooking in indexes: https://pypi.org/simple, https://us-python.pkg.dev/colab-wheels/public/simple/\n",
            "Collecting git+https://github.com/google/jaxopt\n",
            "  Cloning https://github.com/google/jaxopt to /tmp/pip-req-build-lg1zwqor\n",
            "  Running command git clone -q https://github.com/google/jaxopt /tmp/pip-req-build-lg1zwqor\n",
            "Requirement already satisfied: absl-py>=0.7.0 in /usr/local/lib/python3.7/dist-packages (from jaxopt==0.5) (1.2.0)\n",
            "Requirement already satisfied: jax>=0.2.18 in /usr/local/lib/python3.7/dist-packages (from jaxopt==0.5) (0.3.17)\n",
            "Requirement already satisfied: jaxlib>=0.1.69 in /usr/local/lib/python3.7/dist-packages (from jaxopt==0.5) (0.3.15+cuda11.cudnn805)\n",
            "Requirement already satisfied: numpy>=1.18.4 in /usr/local/lib/python3.7/dist-packages (from jaxopt==0.5) (1.21.6)\n",
            "Requirement already satisfied: matplotlib>=2.0.1 in /usr/local/lib/python3.7/dist-packages (from jaxopt==0.5) (3.2.2)\n",
            "Requirement already satisfied: scipy>=1.0.0 in /usr/local/lib/python3.7/dist-packages (from jaxopt==0.5) (1.7.3)\n",
            "Requirement already satisfied: etils[epath] in /usr/local/lib/python3.7/dist-packages (from jax>=0.2.18->jaxopt==0.5) (0.7.1)\n",
            "Requirement already satisfied: typing-extensions in /usr/local/lib/python3.7/dist-packages (from jax>=0.2.18->jaxopt==0.5) (4.1.1)\n",
            "Requirement already satisfied: opt-einsum in /usr/local/lib/python3.7/dist-packages (from jax>=0.2.18->jaxopt==0.5) (3.3.0)\n",
            "Requirement already satisfied: cycler>=0.10 in /usr/local/lib/python3.7/dist-packages (from matplotlib>=2.0.1->jaxopt==0.5) (0.11.0)\n",
            "Requirement already satisfied: kiwisolver>=1.0.1 in /usr/local/lib/python3.7/dist-packages (from matplotlib>=2.0.1->jaxopt==0.5) (1.4.4)\n",
            "Requirement already satisfied: python-dateutil>=2.1 in /usr/local/lib/python3.7/dist-packages (from matplotlib>=2.0.1->jaxopt==0.5) (2.8.2)\n",
            "Requirement already satisfied: pyparsing!=2.0.4,!=2.1.2,!=2.1.6,>=2.0.1 in /usr/local/lib/python3.7/dist-packages (from matplotlib>=2.0.1->jaxopt==0.5) (3.0.9)\n",
            "Requirement already satisfied: six>=1.5 in /usr/local/lib/python3.7/dist-packages (from python-dateutil>=2.1->matplotlib>=2.0.1->jaxopt==0.5) (1.15.0)\n",
            "Requirement already satisfied: zipp in /usr/local/lib/python3.7/dist-packages (from etils[epath]->jax>=0.2.18->jaxopt==0.5) (3.8.1)\n",
            "Requirement already satisfied: importlib_resources in /usr/local/lib/python3.7/dist-packages (from etils[epath]->jax>=0.2.18->jaxopt==0.5) (5.9.0)\n",
            "Building wheels for collected packages: jaxopt\n",
            "  Building wheel for jaxopt (setup.py) ... \u001b[?25l\u001b[?25hdone\n",
            "  Created wheel for jaxopt: filename=jaxopt-0.5-py3-none-any.whl size=129292 sha256=088904e21b28c9851fed657c0bfe4b29b559f4a48726a340d09926fdf7223ab1\n",
            "  Stored in directory: /tmp/pip-ephem-wheel-cache-x74r83sp/wheels/0c/1a/50/424ccbf29b323d1aa44474c7ccfdd30127d8d6fa97527794d7\n",
            "Successfully built jaxopt\n",
            "Installing collected packages: jaxopt\n",
            "Successfully installed jaxopt-0.5\n"
          ]
        }
      ]
    },
    {
      "cell_type": "markdown",
      "source": [
        "# Plot setting"
      ],
      "metadata": {
        "id": "ae1thvfwHWBk"
      }
    },
    {
      "cell_type": "code",
      "source": [
        "plt.rc('font', family='serif', serif='Times')\n",
        "# plt.rc('text', usetex=True)\n",
        "plt.rc('xtick', labelsize=12)\n",
        "plt.rc('ytick', labelsize=12)\n",
        "plt.rc('axes', labelsize=12)\n",
        "mpl.rcParams['pdf.fonttype'] = 42\n",
        "mpl.rcParams['ps.fonttype'] = 42\n",
        "\n",
        "\n",
        "SPINE_COLOR = 'gray'\n",
        "\n",
        "import numpy as onp\n",
        "def format_axes(ax):\n",
        "\n",
        "    for spine in ['top', 'right']:\n",
        "        ax.spines[spine].set_visible(False)\n",
        "\n",
        "    for spine in ['left', 'bottom']:\n",
        "        ax.spines[spine].set_color(SPINE_COLOR)\n",
        "        ax.spines[spine].set_linewidth(0.5)\n",
        "\n",
        "    ax.xaxis.set_ticks_position('bottom')\n",
        "    ax.yaxis.set_ticks_position('left')\n",
        "\n",
        "    for axis in [ax.xaxis, ax.yaxis]:\n",
        "        axis.set_tick_params(direction='out', color=SPINE_COLOR)\n",
        "\n",
        "    return ax\n",
        "\n",
        "\n",
        "import matplotlib\n",
        "\n",
        "def draw_blocks(ax, T):\n",
        "    # find contiguous chunks between coefficients\n",
        "    for k, attn_row in enumerate(T):\n",
        "        brk = onp.diff(attn_row)\n",
        "        brk = onp.where(brk != 0)[0]\n",
        "        brk = onp.append(0, brk + 1)\n",
        "        brk = onp.append(brk, T.shape[0])\n",
        "\n",
        "        right_border = True\n",
        "        for s, t in zip(brk[:-1], brk[1:]):\n",
        "            if attn_row[s:t].sum() == 0:\n",
        "                right_border = False\n",
        "                continue\n",
        "            lines = [(s, k), (t, k), (t, k + 1), (s, k + 1)]\n",
        "            lines = onp.array(lines, dtype=onp.float) - 0.5\n",
        "            path = matplotlib.patches.Polygon(lines, facecolor='none', linewidth=1.5,\n",
        "                                    alpha=1, joinstyle='round',\n",
        "                                    closed=not right_border,\n",
        "                                    edgecolor='#999999')\n",
        "            ax.add_patch(path)\n",
        "            right_border = True\n",
        "\n",
        "def draw_border(ax, T):\n",
        "    lines = [(0, 0), (0, T.shape[0]), (T.shape[1], T.shape[0]), (T.shape[1], 0)]\n",
        "    lines = onp.array(lines) - 0.5\n",
        "    path = matplotlib.patches.Polygon(lines, facecolor='none', linewidth=1.5,\n",
        "                                alpha=1, joinstyle='round',\n",
        "                                closed=True, edgecolor='#999999')\n",
        "    ax.add_patch(path)\n",
        "\n",
        "\n",
        "from matplotlib import gridspec\n",
        "\n",
        "def plot1D_mat(a, b, M, title=''):\n",
        "    r\"\"\" Plot matrix :math:`\\mathbf{M}`  with the source and target 1D distribution\n",
        "\n",
        "    Creates a subplot with the source distribution :math:`\\mathbf{a}` on the left and\n",
        "    target distribution :math:`\\mathbf{b}` on the top. The matrix :math:`\\mathbf{M}` is shown in between.\n",
        "\n",
        "\n",
        "    Parameters\n",
        "    ----------\n",
        "    a : ndarray, shape (na,)\n",
        "        Source distribution\n",
        "    b : ndarray, shape (nb,)\n",
        "        Target distribution\n",
        "    M : ndarray, shape (na, nb)\n",
        "        Matrix to plot\n",
        "    \"\"\"\n",
        "    na, nb = M.shape\n",
        "\n",
        "    gs = gridspec.GridSpec(3, 3)\n",
        "\n",
        "    xa = np.arange(na)\n",
        "    xb = np.arange(nb)\n",
        "\n",
        "    ax1 = pl.subplot(gs[0, 1:])\n",
        "    pl.plot(xb, b, '#fc8d59', label='Target distribution', lw =3)\n",
        "    pl.yticks(())\n",
        "    pl.title(title)\n",
        "    pl.axis('off')\n",
        "\n",
        "    ax2 = pl.subplot(gs[1:, 0])\n",
        "    pl.plot(a, xa, '#999999', label='Source distribution', lw =3)\n",
        "    pl.gca().invert_xaxis()\n",
        "    pl.gca().invert_yaxis()\n",
        "    pl.xticks(())\n",
        "    pl.axis('off')\n",
        "\n",
        "    ax3 = pl.subplot(gs[1:, 1:], sharex=ax1, sharey=ax2)\n",
        "    ax3.imshow(M, interpolation='nearest', cmap='Reds', vmin=0)\n",
        "    ax3.axis(\"off\")\n",
        "    draw_blocks(ax3, M)\n",
        "    draw_border(ax3, M)\n",
        "    # pl.tight_layout()\n",
        "\n",
        "def plot2D_samples_mat(xs, xt, G, thr=1e-8, **kwargs):\n",
        "    r\"\"\" Plot matrix :math:`\\mathbf{G}` in 2D with lines using alpha values\n",
        "\n",
        "    Plot lines between source and target 2D samples with a color\n",
        "    proportional to the value of the matrix :math:`\\mathbf{G}` between samples.\n",
        "\n",
        "\n",
        "    Parameters\n",
        "    ----------\n",
        "    xs : ndarray, shape (ns,2)\n",
        "        Source samples positions\n",
        "    b : ndarray, shape (nt,2)\n",
        "        Target samples positions\n",
        "    G : ndarray, shape (na,nb)\n",
        "        OT matrix\n",
        "    thr : float, optional\n",
        "        threshold above which the line is drawn\n",
        "    **kwargs : dict\n",
        "        parameters given to the plot functions (default color is black if\n",
        "        nothing given)\n",
        "    \"\"\"\n",
        "\n",
        "    if ('color' not in kwargs) and ('c' not in kwargs):\n",
        "        kwargs['color'] = 'k'\n",
        "    mx = G.max()\n",
        "    if 'alpha' in kwargs:\n",
        "        scale = kwargs['alpha']\n",
        "        del kwargs['alpha']\n",
        "    else:\n",
        "        scale = 1\n",
        "\n",
        "    eps = 0.2\n",
        "    for i in range(xs.shape[0]):\n",
        "        for j in range(xt.shape[0]):\n",
        "            if G[i, j] / mx > thr:\n",
        "                alpha =  G[i, j] / mx * scale\n",
        "                if not np.isclose(alpha,0):\n",
        "                  alpha = np.minimum(alpha + eps, 1)\n",
        "                pl.plot([xs[i, 0], xt[j, 0]], [xs[i, 1], xt[j, 1]],\n",
        "                        alpha=alpha, **kwargs)\n",
        "\n"
      ],
      "metadata": {
        "id": "I83uQCU3HXjk"
      },
      "execution_count": null,
      "outputs": []
    },
    {
      "cell_type": "markdown",
      "source": [
        "# K-sparse OT"
      ],
      "metadata": {
        "id": "nIypCcl-5lu7"
      }
    },
    {
      "cell_type": "code",
      "source": [
        "\"\"\"Projection with k-sparse constraints.\"\"\"\n",
        "from typing import Callable, Any\n",
        "import jax\n",
        "import jax.numpy as jnp\n",
        "import jaxopt\n",
        "from jaxopt._src.projection import projection_sparse_simplex, projection_transport, _make_semi_dual #, _regularized_transport_semi_dual\n",
        "\n",
        "\n",
        "\n",
        "def _max_l2_top_k(x, k, marginal_b=1.0, gamma=1.0):\n",
        "  scale = gamma * marginal_b\n",
        "  p = jaxopt.projection.projection_sparse_simplex(x / scale, k)\n",
        "  p = jax.lax.stop_gradient(p)\n",
        "  z = jnp.dot(p, x) - 0.5 * scale * jnp.dot(p, p)\n",
        "  return z\n",
        "\n",
        "_max_l2_top_k_grad = jax.grad(_max_l2_top_k)\n",
        "\n",
        "\n",
        "def _regularized_transport_semi_dual(cost_matrix,\n",
        "                           marginals_a,\n",
        "                           marginals_b,\n",
        "                           make_solver,\n",
        "                           max_vmap,\n",
        "                           max_grad_vmap,\n",
        "                           gamma=1.0):\n",
        "\n",
        "  r\"\"\"Regularized transport in the semi-dual formulation.\n",
        "\n",
        "  Args:\n",
        "    cost_matrix: The cost matrix of size (m, n).\n",
        "    marginals_a: The marginals of size (m,)\n",
        "    marginals_b: The marginals of size (n,)\n",
        "    make_solver: A function that makes the optimization algorithm\n",
        "    max_vmap:  A function that computes the regularized max on columns of\n",
        "      its matrix-valued input\n",
        "    max_grad_vmap:  A function that computes gradient of regularized max\n",
        "      on columns of its matrix-valued input\n",
        "    gamma: A parameter that controls the strength of regularization.\n",
        "\n",
        "  Returns:\n",
        "    The optimized plan. See the text under Eqn. (10) of\n",
        "      https://arxiv.org/abs/1710.06276\n",
        "  \"\"\"\n",
        "  size_a, size_b = cost_matrix.shape\n",
        "\n",
        "  if len(marginals_a.shape) >= 2:\n",
        "    raise ValueError(\"marginals_a should be a vector.\")\n",
        "\n",
        "  if len(marginals_b.shape) >= 2:\n",
        "    raise ValueError(\"marginals_b should be a vector.\")\n",
        "\n",
        "  if size_a != marginals_a.shape[0] or size_b != marginals_b.shape[0]:\n",
        "    raise ValueError(\"cost_matrix and marginals must have matching shapes.\")\n",
        "\n",
        "  if make_solver is None:\n",
        "    make_solver = lambda fun: LBFGS(fun=fun, tol=1e-3, maxiter=500,\n",
        "                                    linesearch=\"zoom\")\n",
        "\n",
        "  semi_dual = _make_semi_dual(max_vmap, gamma=gamma)\n",
        "  solver = make_solver(semi_dual)\n",
        "  alpha_init = jnp.zeros(size_a)\n",
        "\n",
        "  # Optimal dual potentials.\n",
        "  alpha = solver.run(alpha_init,\n",
        "                     cost_matrix=cost_matrix,\n",
        "                     marginals_a=marginals_a,\n",
        "                     marginals_b=marginals_b).params\n",
        "\n",
        "  # Optimal primal transportation plan.\n",
        "  X = alpha[:, jnp.newaxis] - cost_matrix\n",
        "  P = max_grad_vmap(X, marginals_b, gamma).T * marginals_b\n",
        "\n",
        "  return P, alpha\n",
        "\n",
        "\n",
        "def k_sparse_projection_transport(sim_matrix: jnp.ndarray,\n",
        "                                  marginals_a: jnp.ndarray,\n",
        "                                  marginals_b: jnp.ndarray,\n",
        "                                  k: int,\n",
        "                                  row_k_sparse: bool = False,\n",
        "                                  make_solver: Callable[..., Any] = None,\n",
        "                                  gamma=1.0,\n",
        "                                  return_alpha=False):\n",
        "  r\"\"\"Projection onto the transportation polytope with k-sparse constraints.\n",
        "\n",
        "  Args:\n",
        "    sim_matrix: similarity matrix, shape=(size_a, size_b).\n",
        "    marginals_a: marginals a, shape=(size_a,).\n",
        "    marginals_b: marginals b, shape=(size_b,).\n",
        "    k: number of nonzeros that each row (if row_k_sparse is True) or\n",
        "    column (if row_k_sparse is False) can have at most.\n",
        "    row_k_sparse: if True, each row of transportation plan has at most k\n",
        "      nonzeros; else, each column of transportation plan has at most k\n",
        "      nonzeros.\n",
        "    make_solver: a function of the form make_solver(fun),\n",
        "      for creating an iterative solver to minimize fun.\n",
        "    gamma: a parameter that controls the strength of squared l2 regularization.\n",
        "  Returns:\n",
        "    plan: transportation matrix, shape=(size_a, size_b).\n",
        "  References:\n",
        "    Smooth and Sparse Optimal Transport.\n",
        "    Mathieu Blondel, Vivien Seguy, Antoine Rolet.\n",
        "    In Proceedings of Artificial Intelligence and Statistics (AISTATS), 2018.\n",
        "    https://arxiv.org/abs/1710.06276\n",
        "  \"\"\"\n",
        "\n",
        "  def maxop(x, marginal_b, gamma):\n",
        "    return _max_l2_top_k(x, k=k, marginal_b=marginal_b, gamma=gamma)\n",
        "\n",
        "  maxop_vmap = jax.vmap(maxop, in_axes=(1, 0, None))\n",
        "  max_grad_vmap = jax.vmap(jax.grad(maxop), in_axes=(1, 0, None))\n",
        "\n",
        "  if row_k_sparse:\n",
        "    # enforce sparsity constraint rowwise:\n",
        "    marginals_a, marginals_b = marginals_b, marginals_a\n",
        "    sim_matrix = sim_matrix.T\n",
        "\n",
        "  plan, alpha = _regularized_transport_semi_dual(cost_matrix=-sim_matrix,  # pylint: disable=protected-access\n",
        "                                           marginals_a=marginals_a,\n",
        "                                           marginals_b=marginals_b,\n",
        "                                           make_solver=make_solver,\n",
        "                                           max_vmap=maxop_vmap,\n",
        "                                           max_grad_vmap=max_grad_vmap,\n",
        "                                           gamma=gamma)\n",
        "  if row_k_sparse:\n",
        "    plan = plan.T\n",
        "\n",
        "  if return_alpha:\n",
        "    return plan, alpha\n",
        "  else:\n",
        "    return plan"
      ],
      "metadata": {
        "id": "yqhRUtFI5nqt"
      },
      "execution_count": null,
      "outputs": []
    },
    {
      "cell_type": "markdown",
      "metadata": {
        "id": "YAWYXlCRub7a"
      },
      "source": [
        "## Generate data\n",
        "\n"
      ]
    },
    {
      "cell_type": "code",
      "source": [
        "def make_1D_gauss(n, m, s):\n",
        "    \"\"\"return a 1D histogram for a gaussian distribution (`n` bins, mean `m` and std `s`)\n",
        "\n",
        "    Parameters\n",
        "    ----------\n",
        "    n : int\n",
        "        number of bins in the histogram\n",
        "    m : float\n",
        "        mean value of the gaussian distribution\n",
        "    s : float\n",
        "        standard deviaton of the gaussian distribution\n",
        "\n",
        "    Returns\n",
        "    -------\n",
        "    h : ndarray (`n`,)\n",
        "        1D histogram for a gaussian distribution\n",
        "    \"\"\"\n",
        "    x = np.arange(n, dtype=np.float64)\n",
        "    h = np.exp(-(x - m) ** 2 / (2 * s ** 2))\n",
        "    return h / h.sum()\n",
        "\n",
        "\n",
        "def make_1d_bi_gauss(n, mean_std_1, mean_std_2, mix_weights =0.5):\n",
        "    \"\"\"return a 1D histogram for a gaussian distribution (`n` bins, mean `m` and std `s`)\n",
        "\n",
        "    Parameters\n",
        "    ----------\n",
        "    n : int\n",
        "        number of bins in the histogram\n",
        "    m : float\n",
        "        mean value of the gaussian distribution\n",
        "    s : float\n",
        "        standard deviaton of the gaussian distribution\n",
        "\n",
        "    Returns\n",
        "    -------\n",
        "    h : ndarray (`n`,)\n",
        "        1D histogram for a gaussian distribution\n",
        "    \"\"\"\n",
        "    m1, s1 = mean_std_1\n",
        "    m2, s2 = mean_std_2\n",
        "\n",
        "    x = np.arange(n, dtype=np.float64)\n",
        "    h1 = np.exp(-(x - m1) ** 2 / (2 * s1 ** 2))\n",
        "    h2 = np.exp(-(x - m2) ** 2 / (2 * s2 ** 2))\n",
        "\n",
        "    assert (mix_weights <= 1) and (mix_weights >=0)\n",
        "    h = mix_weights * h1 + (1 - mix_weights) * h2\n",
        "    return h / h.sum()\n",
        "\n",
        "\n",
        "\n",
        "def make_2D_samples_gauss(n, m, sigma, random_state=None):\n",
        "    r\"\"\"Return `n` samples drawn from 2D gaussian :math:`\\mathcal{N}(m, \\sigma)`\n",
        "\n",
        "    Parameters\n",
        "    ----------\n",
        "    n : int\n",
        "        number of samples to make\n",
        "    m : ndarray, shape (2,)\n",
        "        mean value of the gaussian distribution\n",
        "    sigma : ndarray, shape (2, 2)\n",
        "        covariance matrix of the gaussian distribution\n",
        "    random_state : int, RandomState instance or None, optional (default=None)\n",
        "        If int, random_state is the seed used by the random number generator;\n",
        "        If RandomState instance, random_state is the random number generator;\n",
        "        If None, the random number generator is the RandomState instance used\n",
        "        by `np.random`.\n",
        "\n",
        "    Returns\n",
        "    -------\n",
        "    X : ndarray, shape (`n`, 2)\n",
        "        n samples drawn from :math:`\\mathcal{N}(m, \\sigma)`.\n",
        "    \"\"\"\n",
        "\n",
        "    generator = check_random_state(random_state)\n",
        "    if np.isscalar(sigma):\n",
        "        sigma = np.array([sigma, ])\n",
        "    if len(sigma) > 1:\n",
        "        P = sp.linalg.sqrtm(sigma)\n",
        "        res = generator.randn(n, 2).dot(P) + m\n",
        "    else:\n",
        "        res = generator.randn(n, 2) * np.sqrt(sigma) + m\n",
        "    return res\n",
        "\n",
        "\n",
        "def check_random_state(seed):\n",
        "    r\"\"\"Turn `seed` into a np.random.RandomState instance\n",
        "\n",
        "    Parameters\n",
        "    ----------\n",
        "    seed : None | int | instance of RandomState\n",
        "        If `seed` is None, return the RandomState singleton used by np.random.\n",
        "        If `seed` is an int, return a new RandomState instance seeded with `seed`.\n",
        "        If `seed` is already a RandomState instance, return it.\n",
        "        Otherwise raise ValueError.\n",
        "    \"\"\"\n",
        "    if seed is None or seed is np.random:\n",
        "        return np.random.mtrand._rand\n",
        "    if isinstance(seed, (int, np.integer)):\n",
        "        return np.random.RandomState(seed)\n",
        "    if isinstance(seed, np.random.RandomState):\n",
        "        return seed\n",
        "    raise ValueError('{} cannot be used to seed a numpy.random.RandomState'\n",
        "                     ' instance'.format(seed))\n",
        "\n",
        "\n",
        "def dist(x1, x2=None, metric='sqeuclidean', p=2, w=None):\n",
        "    r\"\"\"Compute distance between samples in :math:`\\mathbf{x_1}` and :math:`\\mathbf{x_2}`\n",
        "\n",
        "    .. note:: This function is backend-compatible and will work on arrays\n",
        "        from all compatible backends.\n",
        "\n",
        "    Parameters\n",
        "    ----------\n",
        "\n",
        "    x1 : array-like, shape (n1,d)\n",
        "        matrix with `n1` samples of size `d`\n",
        "    x2 : array-like, shape (n2,d), optional\n",
        "        matrix with `n2` samples of size `d` (if None then :math:`\\mathbf{x_2} = \\mathbf{x_1}`)\n",
        "    metric : str | callable, optional\n",
        "        'sqeuclidean' or 'euclidean' on all backends. On numpy the function also\n",
        "        accepts  from the scipy.spatial.distance.cdist function : 'braycurtis',\n",
        "        'canberra', 'chebyshev', 'cityblock', 'correlation', 'cosine', 'dice',\n",
        "        'euclidean', 'hamming', 'jaccard', 'kulsinski', 'mahalanobis',\n",
        "        'matching', 'minkowski', 'rogerstanimoto', 'russellrao', 'seuclidean',\n",
        "        'sokalmichener', 'sokalsneath', 'sqeuclidean', 'wminkowski', 'yule'.\n",
        "    p : float, optional\n",
        "        p-norm for the Minkowski and the Weighted Minkowski metrics. Default value is 2.\n",
        "    w : array-like, rank 1\n",
        "        Weights for the weighted metrics.\n",
        "\n",
        "\n",
        "    Returns\n",
        "    -------\n",
        "\n",
        "    M : array-like, shape (`n1`, `n2`)\n",
        "        distance matrix computed with given metric\n",
        "\n",
        "    \"\"\"\n",
        "    if x2 is None:\n",
        "        x2 = x1\n",
        "    if metric == \"sqeuclidean\":\n",
        "        return euclidean_distances(x1, x2, squared=True)\n",
        "    elif metric == \"euclidean\":\n",
        "        return euclidean_distances(x1, x2, squared=False)\n",
        "    else:\n",
        "        if not get_backend(x1, x2).__name__ == 'numpy':\n",
        "            raise NotImplementedError()\n",
        "        else:\n",
        "            if metric.endswith(\"minkowski\"):\n",
        "                return cdist(x1, x2, metric=metric, p=p, w=w)\n",
        "            return cdist(x1, x2, metric=metric, w=w)"
      ],
      "metadata": {
        "id": "ve7P3dBlpaMu"
      },
      "execution_count": null,
      "outputs": []
    },
    {
      "cell_type": "markdown",
      "source": [
        "# Synthetic 1D dataset"
      ],
      "metadata": {
        "id": "AN9me6Bn31dR"
      }
    },
    {
      "cell_type": "code",
      "source": [
        "from sklearn.metrics.pairwise import euclidean_distances\n",
        "import scipy as sp\n"
      ],
      "metadata": {
        "id": "pJfCvxzh4n3W"
      },
      "execution_count": null,
      "outputs": []
    },
    {
      "cell_type": "code",
      "execution_count": null,
      "metadata": {
        "id": "1v3xlhv6ub7a"
      },
      "outputs": [],
      "source": [
        "def make_synthetic_1d_bi_gaussian_dataset():\n",
        "  n = 32 # nb bins\n",
        "\n",
        "  # Gaussian distributions\n",
        "  marginals_a = make_1D_gauss(n, m=16, s= 5 )\n",
        "  marginals_b = make_1d_bi_gauss(n, (8, 5), (24, 5))\n",
        "  x = np.arange(n, dtype=np.float64)\n",
        "\n",
        "  # cost matrix\n",
        "  cost_matrix = dist(x.reshape((n, 1)), x.reshape((n, 1)))\n",
        "  cost_matrix /= cost_matrix.max()\n",
        "\n",
        "  dataset = {'marginals_a': marginals_a,\n",
        "                          'marginals_b': marginals_b,\n",
        "                          'cost_matrix': cost_matrix}\n",
        "  return dataset\n",
        "\n",
        "synthetic_1d_bi_gaussian_dataset = make_synthetic_1d_bi_gaussian_dataset()\n",
        "\n",
        "\n",
        "def make_synthetic_1d_gaussian_dataset():\n",
        "  n = 32 # nb bins\n",
        "\n",
        "  # Gaussian distributions\n",
        "  marginals_a = gauss(n, m=10, s=4)  # m= mean, s= std\n",
        "  marginals_b = gauss(n, m=16, s=5)\n",
        "  x = np.arange(n, dtype=np.float64)\n",
        "\n",
        "  # cost matrix\n",
        "  cost_matrix = dist(x.reshape((n, 1)), x.reshape((n, 1)))\n",
        "  cost_matrix /= cost_matrix.max()\n",
        "\n",
        "  dataset = {'marginals_a': marginals_a,\n",
        "             'marginals_b': marginals_b,\n",
        "             'cost_matrix': cost_matrix}\n",
        "  return dataset\n",
        "\n",
        "synthetic_1d_gaussian_dataset = make_synthetic_1d_gaussian_dataset()\n"
      ]
    },
    {
      "cell_type": "markdown",
      "source": [
        "# Synthetic 2D dataset"
      ],
      "metadata": {
        "id": "NU5MmssB36Uw"
      }
    },
    {
      "cell_type": "code",
      "source": [
        "def make_synthetic_2d_dataset():\n",
        "\n",
        "  n = 20 # nb samples\n",
        "\n",
        "  mu_s = np.array([0, 0])\n",
        "  cov_s = np.array([[1, 0], [0, 1]])\n",
        "\n",
        "  mu_t = np.array([4, 4])\n",
        "  # cov_t = np.array([[1, -.8], [-.8, 1]])\n",
        "  cov_t = np.array([[1, -.8], [-.6, 1]])\n",
        "\n",
        "  xs = make_2D_samples_gauss(n, mu_s, cov_s)\n",
        "  xt = make_2D_samples_gauss(n, mu_t, cov_t)\n",
        "\n",
        "  a, b = np.ones((n,)) / n, np.ones((n,)) / n  # uniform distribution on samples\n",
        "\n",
        "  marginals_a = a/a.sum()\n",
        "  marginals_b = b/b.sum()\n",
        "  # loss matrix\n",
        "  cost_matrix = dist(xs, xt)\n",
        "\n",
        "  dataset = {'xs': xs,\n",
        "             'xt': xt,\n",
        "             'marginals_a': marginals_a,\n",
        "             'marginals_b': marginals_b,\n",
        "             'cost_matrix': cost_matrix}\n",
        "  return dataset\n",
        "synthetic_2d_dataset = make_synthetic_2d_dataset()"
      ],
      "metadata": {
        "id": "3I3_avzw39C2"
      },
      "execution_count": null,
      "outputs": []
    },
    {
      "cell_type": "markdown",
      "metadata": {
        "id": "VUcwvcQfub7b"
      },
      "source": [
        "## Plot distributions and loss matrix\n",
        "\n"
      ]
    },
    {
      "cell_type": "code",
      "source": [
        "save = False\n",
        "\n",
        "width  = 390 / 72 / 2 #390/6 pt in inches\n",
        "\n",
        "ot_formulation_to_alg = {'emd': ot.emd,\n",
        "                         'kl': ot.emd}"
      ],
      "metadata": {
        "id": "RmlFhaGwOd11"
      },
      "execution_count": null,
      "outputs": []
    },
    {
      "cell_type": "markdown",
      "source": [
        "# 1D Experiments:"
      ],
      "metadata": {
        "id": "hrJm6b4V6eoH"
      }
    },
    {
      "cell_type": "code",
      "source": [
        "for dataset in [synthetic_1d_gaussian_dataset, synthetic_1d_bi_gaussian_dataset]:\n",
        "\n",
        "  a = dataset['marginals_a']\n",
        "  b = dataset['marginals_b']\n",
        "  M = dataset['cost_matrix']\n",
        "\n",
        "  P_unregularized = ot.emd(a, b, M)\n",
        "  sparsity = 1 - jnp.count_nonzero( P_unregularized )/jnp.size(P_unregularized)\n",
        "\n",
        "  pl.figure(figsize=(width, width))\n",
        "  plot1D_mat(a, b, P_unregularized, f'Unregularized, sparsity: {sparsity}')\n",
        "\n",
        "  if save:\n",
        "    pl.savefig(\"emd_1d.pdf\", dpi=300, transparent=True)\n",
        "    files.download(\"emd_1d.pdf\")\n",
        "\n",
        "  P_kl = ot.smooth.smooth_ot_dual(a, b, M, 2e-3, reg_type='kl')\n",
        "\n",
        "  pl.figure(figsize=(width, width))\n",
        "  plot1D_mat(a, b, P_kl, f'KL, sparsity: {sparsity}')\n",
        "  sparsity = jnp.sum(P_kl == 0)/jnp.size(P_kl)\n",
        "\n",
        "  if save:\n",
        "    pl.savefig(\"kl_plan_1d.pdf\", dpi=300, transparent=True)\n",
        "    files.download(\"kl_plan_1d.pdf\")\n",
        "  pl.show()\n",
        "\n",
        "\n",
        "  P_l2 = ot.smooth.smooth_ot_dual(a, b, M, 1e-1, reg_type='l2')\n",
        "  sparsity = jnp.sum(P_l2 == 0)/jnp.size(P_l2)\n",
        "  pl.figure(figsize=(width, width))\n",
        "  plot1D_mat(a, b, P_l2, f'Squared l2, sparsity: {sparsity}')\n",
        "\n",
        "\n",
        "  P_k2 = k_sparse_projection_transport(sim_matrix=-M,\n",
        "                                marginals_a=a,\n",
        "                                marginals_b=b,\n",
        "                                k=2,\n",
        "                                row_k_sparse=False)\n",
        "\n",
        "  sparsity = jnp.sum(P_k2 == 0)/jnp.size(P_k2)\n",
        "  pl.figure(figsize=(width, width))\n",
        "  plot1D_mat(a, b, P_k2, f'Col-k-sparse, k=2, sparsity: {sparsity}')\n",
        "\n",
        "  if save:\n",
        "    pl.savefig(\"k_sparse_1d_k2.pdf\", dpi=300, transparent=True)\n",
        "    files.download(\"k_sparse_1d_k2.pdf\")\n",
        "  pl.show()"
      ],
      "metadata": {
        "colab": {
          "base_uri": "https://localhost:8080/",
          "height": 1000
        },
        "id": "elS5cmYYG-m1",
        "outputId": "97d40669-a5b3-44f7-85a9-1991ed775f79"
      },
      "execution_count": null,
      "outputs": [
        {
          "output_type": "stream",
          "name": "stderr",
          "text": [
            "/usr/local/lib/python3.7/dist-packages/ipykernel_launcher.py:47: DeprecationWarning: `np.float` is a deprecated alias for the builtin `float`. To silence this warning, use `float` by itself. Doing this will not modify any behavior and is safe. If you specifically wanted the numpy scalar type, use `np.float64` here.\n",
            "Deprecated in NumPy 1.20; for more details and guidance: https://numpy.org/devdocs/release/1.20.0-notes.html#deprecations\n",
            "/usr/local/lib/python3.7/dist-packages/ipykernel_launcher.py:47: DeprecationWarning: `np.float` is a deprecated alias for the builtin `float`. To silence this warning, use `float` by itself. Doing this will not modify any behavior and is safe. If you specifically wanted the numpy scalar type, use `np.float64` here.\n",
            "Deprecated in NumPy 1.20; for more details and guidance: https://numpy.org/devdocs/release/1.20.0-notes.html#deprecations\n"
          ]
        },
        {
          "output_type": "display_data",
          "data": {
            "text/plain": [
              "<Figure size 195x195 with 3 Axes>"
            ],
            "image/png": "[encoded data removed]"
          },
          "metadata": {
            "needs_background": "light"
          }
        },
        {
          "output_type": "display_data",
          "data": {
            "text/plain": [
              "<Figure size 195x195 with 3 Axes>"
            ],
            "image/png": "[encoded data removed]"
          },
          "metadata": {
            "needs_background": "light"
          }
        },
        {
          "output_type": "stream",
          "name": "stderr",
          "text": [
            "/usr/local/lib/python3.7/dist-packages/ipykernel_launcher.py:47: DeprecationWarning: `np.float` is a deprecated alias for the builtin `float`. To silence this warning, use `float` by itself. Doing this will not modify any behavior and is safe. If you specifically wanted the numpy scalar type, use `np.float64` here.\n",
            "Deprecated in NumPy 1.20; for more details and guidance: https://numpy.org/devdocs/release/1.20.0-notes.html#deprecations\n",
            "/usr/local/lib/python3.7/dist-packages/ipykernel_launcher.py:47: DeprecationWarning: `np.float` is a deprecated alias for the builtin `float`. To silence this warning, use `float` by itself. Doing this will not modify any behavior and is safe. If you specifically wanted the numpy scalar type, use `np.float64` here.\n",
            "Deprecated in NumPy 1.20; for more details and guidance: https://numpy.org/devdocs/release/1.20.0-notes.html#deprecations\n"
          ]
        },
        {
          "output_type": "display_data",
          "data": {
            "text/plain": [
              "<Figure size 195x195 with 3 Axes>"
            ],
            "image/png": "[encoded data removed]"
          },
          "metadata": {
            "needs_background": "light"
          }
        },
        {
          "output_type": "display_data",
          "data": {
            "text/plain": [
              "<Figure size 195x195 with 3 Axes>"
            ],
            "image/png": "[encoded data removed]"
          },
          "metadata": {
            "needs_background": "light"
          }
        },
        {
          "output_type": "stream",
          "name": "stderr",
          "text": [
            "/usr/local/lib/python3.7/dist-packages/ipykernel_launcher.py:47: DeprecationWarning: `np.float` is a deprecated alias for the builtin `float`. To silence this warning, use `float` by itself. Doing this will not modify any behavior and is safe. If you specifically wanted the numpy scalar type, use `np.float64` here.\n",
            "Deprecated in NumPy 1.20; for more details and guidance: https://numpy.org/devdocs/release/1.20.0-notes.html#deprecations\n",
            "/usr/local/lib/python3.7/dist-packages/ipykernel_launcher.py:47: DeprecationWarning: `np.float` is a deprecated alias for the builtin `float`. To silence this warning, use `float` by itself. Doing this will not modify any behavior and is safe. If you specifically wanted the numpy scalar type, use `np.float64` here.\n",
            "Deprecated in NumPy 1.20; for more details and guidance: https://numpy.org/devdocs/release/1.20.0-notes.html#deprecations\n"
          ]
        },
        {
          "output_type": "display_data",
          "data": {
            "text/plain": [
              "<Figure size 195x195 with 3 Axes>"
            ],
            "image/png": "[encoded data removed]"
          },
          "metadata": {
            "needs_background": "light"
          }
        },
        {
          "output_type": "display_data",
          "data": {
            "text/plain": [
              "<Figure size 195x195 with 3 Axes>"
            ],
            "image/png": "[encoded data removed]"
          },
          "metadata": {
            "needs_background": "light"
          }
        },
        {
          "output_type": "stream",
          "name": "stderr",
          "text": [
            "/usr/local/lib/python3.7/dist-packages/ipykernel_launcher.py:47: DeprecationWarning: `np.float` is a deprecated alias for the builtin `float`. To silence this warning, use `float` by itself. Doing this will not modify any behavior and is safe. If you specifically wanted the numpy scalar type, use `np.float64` here.\n",
            "Deprecated in NumPy 1.20; for more details and guidance: https://numpy.org/devdocs/release/1.20.0-notes.html#deprecations\n",
            "/usr/local/lib/python3.7/dist-packages/ipykernel_launcher.py:47: DeprecationWarning: `np.float` is a deprecated alias for the builtin `float`. To silence this warning, use `float` by itself. Doing this will not modify any behavior and is safe. If you specifically wanted the numpy scalar type, use `np.float64` here.\n",
            "Deprecated in NumPy 1.20; for more details and guidance: https://numpy.org/devdocs/release/1.20.0-notes.html#deprecations\n"
          ]
        },
        {
          "output_type": "display_data",
          "data": {
            "text/plain": [
              "<Figure size 195x195 with 3 Axes>"
            ],
            "image/png": "[encoded data removed]"
          },
          "metadata": {
            "needs_background": "light"
          }
        },
        {
          "output_type": "display_data",
          "data": {
            "text/plain": [
              "<Figure size 195x195 with 3 Axes>"
            ],
            "image/png": "[encoded data removed]"
          },
          "metadata": {
            "needs_background": "light"
          }
        }
      ]
    },
    {
      "cell_type": "code",
      "source": [
        "P_k1, alpha_k1 = k_sparse_projection_transport(sim_matrix=-M,\n",
        "                              marginals_a=a,\n",
        "                              marginals_b=b,\n",
        "                              k=1,\n",
        "                              make_solver=lambda fun: jaxopt.LBFGS(fun=fun, tol=1e-8, maxiter=1000, linesearch=\"zoom\"),\n",
        "                              return_alpha=True)\n",
        "\n",
        "pl.figure(figsize=(width, width))\n",
        "plot1D_mat(a, b, P_k1, f'Col-k-sparse, k=1')"
      ],
      "metadata": {
        "id": "RMLU9afkTMEk",
        "colab": {
          "base_uri": "https://localhost:8080/",
          "height": 251
        },
        "outputId": "2aada697-6101-4694-b014-dcc6d046ab3c"
      },
      "execution_count": null,
      "outputs": [
        {
          "output_type": "stream",
          "name": "stderr",
          "text": [
            "/usr/local/lib/python3.7/dist-packages/ipykernel_launcher.py:47: DeprecationWarning: `np.float` is a deprecated alias for the builtin `float`. To silence this warning, use `float` by itself. Doing this will not modify any behavior and is safe. If you specifically wanted the numpy scalar type, use `np.float64` here.\n",
            "Deprecated in NumPy 1.20; for more details and guidance: https://numpy.org/devdocs/release/1.20.0-notes.html#deprecations\n"
          ]
        },
        {
          "output_type": "display_data",
          "data": {
            "text/plain": [
              "<Figure size 195x195 with 3 Axes>"
            ],
            "image/png": "[encoded data removed]"
          },
          "metadata": {
            "needs_background": "light"
          }
        }
      ]
    },
    {
      "cell_type": "code",
      "source": [
        "k1_plan_reconstruct = get_plan_from_alpha(a, b, -M, alpha_k1)"
      ],
      "metadata": {
        "id": "_DWO89st039t"
      },
      "execution_count": null,
      "outputs": []
    },
    {
      "cell_type": "code",
      "source": [
        "pl.figure(figsize=(width, width))\n",
        "\n",
        "plot1D_mat(a, b, k1_plan_reconstruct, f'Col-k-sparse')\n"
      ],
      "metadata": {
        "colab": {
          "base_uri": "https://localhost:8080/",
          "height": 251
        },
        "id": "CzFK8Lc904Bd",
        "outputId": "c83b6f3f-6f9c-47ac-dd43-3c9023a8c352"
      },
      "execution_count": null,
      "outputs": [
        {
          "output_type": "stream",
          "name": "stderr",
          "text": [
            "/usr/local/lib/python3.7/dist-packages/ipykernel_launcher.py:47: DeprecationWarning: `np.float` is a deprecated alias for the builtin `float`. To silence this warning, use `float` by itself. Doing this will not modify any behavior and is safe. If you specifically wanted the numpy scalar type, use `np.float64` here.\n",
            "Deprecated in NumPy 1.20; for more details and guidance: https://numpy.org/devdocs/release/1.20.0-notes.html#deprecations\n"
          ]
        },
        {
          "output_type": "display_data",
          "data": {
            "text/plain": [
              "<Figure size 195x195 with 3 Axes>"
            ],
            "image/png": "[encoded data removed]"
          },
          "metadata": {
            "needs_background": "light"
          }
        }
      ]
    },
    {
      "cell_type": "code",
      "source": [],
      "metadata": {
        "id": "acm3Yf2m04EI"
      },
      "execution_count": null,
      "outputs": []
    },
    {
      "cell_type": "code",
      "source": [
        "\n",
        "import numpy as onp\n",
        "import scipy\n",
        "\n",
        "import jaxopt\n",
        "import jax.numpy as jnp\n",
        "\n",
        "\n",
        "def get_plan_from_alpha(a, b, C, alpha, eps=1e-10, method=\"pinv\"):\n",
        "  beta = onp.min(C - alpha[:, onp.newaxis], axis=0)\n",
        "  diff = C - alpha[:, onp.newaxis] - beta\n",
        "  support = (diff <= eps).astype(int)\n",
        "  rows, cols = onp.nonzero(support)\n",
        "\n",
        "  ab = onp.concatenate((a, b))\n",
        "  mn = len(a) + len(b)\n",
        "  M = onp.zeros((mn, mn))\n",
        "\n",
        "  for n in range(len(rows)):\n",
        "    i, j = rows[n], cols[n]\n",
        "    M[i, n] = 1\n",
        "    M[j + len(a), n] = 1\n",
        "\n",
        "  if method == \"pinv\":\n",
        "    Minv = scipy.linalg.pinv(M)\n",
        "    t = onp.dot(Minv, ab)\n",
        "\n",
        "  elif method == \"nnls\":\n",
        "    t = scipy.optimize.nnls(M, ab, maxiter=1000)[0]\n",
        "\n",
        "  elif method == \"pg\":\n",
        "    def fun(x):\n",
        "      res = jnp.dot(M, x) - ab\n",
        "      return jnp.dot(res, res)\n",
        "\n",
        "    projection = jaxopt.projection.projection_simplex\n",
        "    pg = jaxopt.ProjectedGradient(fun=fun, projection=projection)\n",
        "    init = jnp.ones(mn) / mn\n",
        "    t = pg.run(init).params\n",
        "\n",
        "  else:\n",
        "    raise ValueError(\"Unknown method.\")\n",
        "\n",
        "  # Reconstruct the full plan matrix.\n",
        "  T = onp.zeros((len(a), len(b)))\n",
        "\n",
        "  for n in range(len(rows)):\n",
        "    i, j = rows[n], cols[n]\n",
        "    T[i, j] = t[n]\n",
        "\n",
        "  return T"
      ],
      "metadata": {
        "id": "DoDKdRzZTMHg"
      },
      "execution_count": null,
      "outputs": []
    },
    {
      "cell_type": "code",
      "source": [
        "# if __name__ == '__main__':\n",
        "import ot\n",
        "\n",
        "# Fake data.\n",
        "rng = onp.random.RandomState(0)\n",
        "\n",
        "a = rng.rand(3)\n",
        "a /= a.sum()\n",
        "\n",
        "b = rng.rand(4)\n",
        "b /= b.sum()\n",
        "\n",
        "C = rng.rand(3, 4)\n",
        "\n",
        "# Solve the OT problem.\n",
        "T, dic = ot.emd(a, b, C, log=True)\n",
        "alpha, beta = dic[\"u\"], dic[\"v\"]\n",
        "\n",
        "print(\"POT:\")\n",
        "print(T)\n",
        "\n",
        "print(\"Reconstructed:\")\n",
        "print(get_plan_from_alpha(a, b, C, alpha))"
      ],
      "metadata": {
        "id": "Vx_GooMrTMKs",
        "colab": {
          "base_uri": "https://localhost:8080/"
        },
        "outputId": "47a8505d-413a-43e6-ae56-ef393972e39c"
      },
      "execution_count": null,
      "outputs": [
        {
          "output_type": "stream",
          "name": "stdout",
          "text": [
            "POT:\n",
            "[[0.         0.         0.29399155 0.        ]\n",
            " [0.1491009  0.         0.0207687  0.21324712]\n",
            " [0.11643422 0.20645751 0.         0.        ]]\n",
            "Reconstructed:\n",
            "[[0.         0.         0.29399155 0.        ]\n",
            " [0.1491009  0.         0.0207687  0.21324712]\n",
            " [0.11643422 0.20645751 0.         0.        ]]\n"
          ]
        }
      ]
    },
    {
      "cell_type": "code",
      "source": [
        "P_k1, alpha_k1 = k_sparse_projection_transport(sim_matrix=-C,\n",
        "                              marginals_a=a,\n",
        "                              marginals_b=b,\n",
        "                              k=1,\n",
        "                              make_solver=lambda fun: jaxopt.LBFGS(fun=fun, tol=1e-8, maxiter=500, linesearch=\"zoom\"),\n",
        "                              return_alpha=True)"
      ],
      "metadata": {
        "id": "D05CXsKi3rGn"
      },
      "execution_count": null,
      "outputs": []
    },
    {
      "cell_type": "code",
      "source": [
        "alpha_k1"
      ],
      "metadata": {
        "colab": {
          "base_uri": "https://localhost:8080/"
        },
        "id": "az05UEr23x8D",
        "outputId": "854c47e9-3c59-4fc0-a226-da5fde24e8d6"
      },
      "execution_count": null,
      "outputs": [
        {
          "output_type": "execute_result",
          "data": {
            "text/plain": [
              "DeviceArray([235.32108, 235.86029, 235.41591], dtype=float32)"
            ]
          },
          "metadata": {},
          "execution_count": 56
        }
      ]
    },
    {
      "cell_type": "code",
      "source": [
        "alpha"
      ],
      "metadata": {
        "colab": {
          "base_uri": "https://localhost:8080/"
        },
        "id": "GEa3RhYT3z1u",
        "outputId": "33c3a7c2-90ec-406d-d605-46830a03cc1b"
      },
      "execution_count": null,
      "outputs": [
        {
          "output_type": "execute_result",
          "data": {
            "text/plain": [
              "array([-0.11998462,  0.4221705 , -0.01959512])"
            ]
          },
          "metadata": {},
          "execution_count": 51
        }
      ]
    },
    {
      "cell_type": "code",
      "source": [
        "T, dic = ot.emd(a, b, C, log=True)\n"
      ],
      "metadata": {
        "id": "9ND2MqzF3l16"
      },
      "execution_count": null,
      "outputs": []
    },
    {
      "cell_type": "markdown",
      "source": [
        "# 2D"
      ],
      "metadata": {
        "id": "LhFaB0kiJMbo"
      }
    },
    {
      "cell_type": "code",
      "source": [
        "a = synthetic_2d_dataset['marginals_a']\n",
        "b = synthetic_2d_dataset['marginals_b']\n",
        "M = synthetic_2d_dataset['cost_matrix']\n",
        "xs = synthetic_2d_dataset['xs']\n",
        "xt = synthetic_2d_dataset['xt']\n",
        "\n",
        "plan_sinkhorn = ot.sinkhorn(a, b, M, 1e-1)\n",
        "plan_l2_reg = ot.smooth.smooth_ot_dual(a, b, M, 10, reg_type='l2', numItermax=500)\n",
        "\n",
        "plan_emd = ot.emd(a, b, M)\n",
        "\n",
        "\n",
        "\n",
        "plan_col_2_sparse = k_sparse_projection_transport(sim_matrix=-M,\n",
        "                              marginals_a=a,\n",
        "                              marginals_b=b,\n",
        "                              k=2,\n",
        "                              make_solver=lambda fun: jaxopt.LBFGS(fun=fun, tol=1e-8, maxiter=500, linesearch=\"zoom\"),\n",
        "                              row_k_sparse=False)\n",
        "plan_col_2_sparse = np.asarray(plan_col_2_sparse)\n",
        "\n",
        "\n",
        "plan_col_1_sparse = k_sparse_projection_transport(sim_matrix=-M,\n",
        "                              marginals_a=a,\n",
        "                              marginals_b=b,\n",
        "                              k=1,\n",
        "                              make_solver=lambda fun: jaxopt.LBFGS(fun=fun, tol=1e-8, maxiter=500, linesearch=\"zoom\"),\n",
        "                              row_k_sparse=False)\n",
        "plan_col_1_sparse = np.asarray(plan_col_1_sparse)\n",
        "\n",
        "\n"
      ],
      "metadata": {
        "colab": {
          "base_uri": "https://localhost:8080/"
        },
        "id": "qaSdNe_C9jJc",
        "outputId": "ab8690ae-f22a-4710-8c27-f5a961b63131"
      },
      "execution_count": null,
      "outputs": [
        {
          "output_type": "stream",
          "name": "stderr",
          "text": [
            "/usr/local/lib/python3.7/dist-packages/ot/bregman.py:517: UserWarning: Sinkhorn did not converge. You might want to increase the number of iterations `numItermax` or the regularization parameter `reg`.\n",
            "  warnings.warn(\"Sinkhorn did not converge. You might want to \"\n"
          ]
        }
      ]
    },
    {
      "cell_type": "code",
      "source": [
        "def plot2D_samples_mat(xs, xt, G, thr=1e-8, **kwargs):\n",
        "    r\"\"\" Plot matrix :math:`\\mathbf{G}` in 2D with lines using alpha values\n",
        "\n",
        "    Plot lines between source and target 2D samples with a color\n",
        "    proportional to the value of the matrix :math:`\\mathbf{G}` between samples.\n",
        "\n",
        "\n",
        "    Parameters\n",
        "    ----------\n",
        "    xs : ndarray, shape (ns,2)\n",
        "        Source samples positions\n",
        "    b : ndarray, shape (nt,2)\n",
        "        Target samples positions\n",
        "    G : ndarray, shape (na,nb)\n",
        "        OT matrix\n",
        "    thr : float, optional\n",
        "        threshold above which the line is drawn\n",
        "    **kwargs : dict\n",
        "        parameters given to the plot functions (default color is black if\n",
        "        nothing given)\n",
        "    \"\"\"\n",
        "\n",
        "    if ('color' not in kwargs) and ('c' not in kwargs):\n",
        "        kwargs['color'] = 'k'\n",
        "    mx = G.max()\n",
        "    if 'alpha' in kwargs:\n",
        "        scale = kwargs['alpha']\n",
        "        del kwargs['alpha']\n",
        "    else:\n",
        "        scale = 1\n",
        "\n",
        "    eps = 0.2\n",
        "    for i in range(xs.shape[0]):\n",
        "        for j in range(xt.shape[0]):\n",
        "            if G[i, j] / mx > thr:\n",
        "                alpha =  G[i, j] / mx * scale\n",
        "                if not np.isclose(alpha,0):\n",
        "                  alpha = np.minimum(alpha + eps, 1)\n",
        "                pl.plot([xs[i, 0], xt[j, 0]], [xs[i, 1], xt[j, 1]],\n",
        "                        alpha=alpha, **kwargs)\n",
        "\n"
      ],
      "metadata": {
        "id": "2Zruncz5NmMA"
      },
      "execution_count": null,
      "outputs": []
    },
    {
      "cell_type": "code",
      "source": [
        "transp = [plan_emd, plan_sinkhorn, plan_l2_reg, plan_col_2_sparse, plan_col_1_sparse]\n",
        "title = [\"Unregularized\", \"KL\", \"Squared l2\", \"Col-2-sparse\", \"Col-1-sparse\"]\n",
        "\n",
        "pl.figure(2, figsize=(len(title) * width, 2 * width))\n",
        "\n",
        "\n",
        "for p in range(len(title)):\n",
        "    ax1 = pl.subplot(2, len(title), p + 1)\n",
        "    P = transp[p]\n",
        "\n",
        "    plot2D_samples_mat(xs, xt, P, color=[.5, .5, 1], alpha=1, linewidth=1, thr=0)\n",
        "\n",
        "    # ot.plot.plot2D_samples_mat(xs, xt, P, color=[.5, .5, 1], alpha=0.5, linewidth=2, thr=0)\n",
        "    ax1.plot(xs[:, 0], xs[:, 1], '+', c='#999999', markersize = 10, label='Source samples')\n",
        "    ax1.plot(xt[:, 0], xt[:, 1], '.', c='#fc8d59', markersize = 8, label='Target samples')\n",
        "    ax1.set_xlim([-4, 6])\n",
        "    ax1.set_ylim([-3, 7])\n",
        "    format_axes(ax1)\n",
        "\n",
        "    ax1.set_title(title[p])\n",
        "    # pl.yticks(())\n",
        "    # pl.xticks(())\n",
        "    if p < 1:\n",
        "        ax1.set_ylabel(\"Mappings\")\n",
        "\n",
        "    ax2 = pl.subplot(2, len(title), p + len(title) + 1)\n",
        "    ax2.imshow(P, cmap='Reds')\n",
        "    ax2.axis('off')\n",
        "    draw_blocks(ax2, P)\n",
        "    draw_border(ax2, P)\n",
        "\n",
        "    if p < 1:\n",
        "        pl.ylabel(\"Plans\")\n",
        "\n",
        "\n",
        "if save:\n",
        "  pl.savefig(\"2d_comparison_5_methods.pdf\", dpi=300, transparent=True)\n",
        "  files.download(\"2d_comparison_5_methods.pdf\")"
      ],
      "metadata": {
        "colab": {
          "base_uri": "https://localhost:8080/",
          "height": 534
        },
        "id": "NnP0BDzSJ9Km",
        "outputId": "20ce7ff4-e170-4532-8697-47c6e376f8bf"
      },
      "execution_count": null,
      "outputs": [
        {
          "output_type": "stream",
          "name": "stderr",
          "text": [
            "/usr/local/lib/python3.7/dist-packages/ipykernel_launcher.py:47: DeprecationWarning: `np.float` is a deprecated alias for the builtin `float`. To silence this warning, use `float` by itself. Doing this will not modify any behavior and is safe. If you specifically wanted the numpy scalar type, use `np.float64` here.\n",
            "Deprecated in NumPy 1.20; for more details and guidance: https://numpy.org/devdocs/release/1.20.0-notes.html#deprecations\n",
            "/usr/local/lib/python3.7/dist-packages/ipykernel_launcher.py:47: DeprecationWarning: `np.float` is a deprecated alias for the builtin `float`. To silence this warning, use `float` by itself. Doing this will not modify any behavior and is safe. If you specifically wanted the numpy scalar type, use `np.float64` here.\n",
            "Deprecated in NumPy 1.20; for more details and guidance: https://numpy.org/devdocs/release/1.20.0-notes.html#deprecations\n",
            "/usr/local/lib/python3.7/dist-packages/ipykernel_launcher.py:47: DeprecationWarning: `np.float` is a deprecated alias for the builtin `float`. To silence this warning, use `float` by itself. Doing this will not modify any behavior and is safe. If you specifically wanted the numpy scalar type, use `np.float64` here.\n",
            "Deprecated in NumPy 1.20; for more details and guidance: https://numpy.org/devdocs/release/1.20.0-notes.html#deprecations\n",
            "/usr/local/lib/python3.7/dist-packages/ipykernel_launcher.py:47: DeprecationWarning: `np.float` is a deprecated alias for the builtin `float`. To silence this warning, use `float` by itself. Doing this will not modify any behavior and is safe. If you specifically wanted the numpy scalar type, use `np.float64` here.\n",
            "Deprecated in NumPy 1.20; for more details and guidance: https://numpy.org/devdocs/release/1.20.0-notes.html#deprecations\n",
            "/usr/local/lib/python3.7/dist-packages/ipykernel_launcher.py:47: DeprecationWarning: `np.float` is a deprecated alias for the builtin `float`. To silence this warning, use `float` by itself. Doing this will not modify any behavior and is safe. If you specifically wanted the numpy scalar type, use `np.float64` here.\n",
            "Deprecated in NumPy 1.20; for more details and guidance: https://numpy.org/devdocs/release/1.20.0-notes.html#deprecations\n"
          ]
        },
        {
          "output_type": "display_data",
          "data": {
            "text/plain": [
              "<IPython.core.display.Javascript object>"
            ],
            "application/javascript": [
              "\n",
              "    async function download(id, filename, size) {\n",
              "      if (!google.colab.kernel.accessAllowed) {\n",
              "        return;\n",
              "      }\n",
              "      const div = document.createElement('div');\n",
              "      const label = document.createElement('label');\n",
              "      label.textContent = `Downloading \"${filename}\": `;\n",
              "      div.appendChild(label);\n",
              "      const progress = document.createElement('progress');\n",
              "      progress.max = size;\n",
              "      div.appendChild(progress);\n",
              "      document.body.appendChild(div);\n",
              "\n",
              "      const buffers = [];\n",
              "      let downloaded = 0;\n",
              "\n",
              "      const channel = await google.colab.kernel.comms.open(id);\n",
              "      // Send a message to notify the kernel that we're ready.\n",
              "      channel.send({})\n",
              "\n",
              "      for await (const message of channel.messages) {\n",
              "        // Send a message to notify the kernel that we're ready.\n",
              "        channel.send({})\n",
              "        if (message.buffers) {\n",
              "          for (const buffer of message.buffers) {\n",
              "            buffers.push(buffer);\n",
              "            downloaded += buffer.byteLength;\n",
              "            progress.value = downloaded;\n",
              "          }\n",
              "        }\n",
              "      }\n",
              "      const blob = new Blob(buffers, {type: 'application/binary'});\n",
              "      const a = document.createElement('a');\n",
              "      a.href = window.URL.createObjectURL(blob);\n",
              "      a.download = filename;\n",
              "      div.appendChild(a);\n",
              "      a.click();\n",
              "      div.remove();\n",
              "    }\n",
              "  "
            ]
          },
          "metadata": {}
        },
        {
          "output_type": "display_data",
          "data": {
            "text/plain": [
              "<IPython.core.display.Javascript object>"
            ],
            "application/javascript": [
              "download(\"download_96e95d7c-3f2b-4f01-9b48-6734717081d2\", \"2d_comparison_5_methods.pdf\", 441736)"
            ]
          },
          "metadata": {}
        },
        {
          "output_type": "display_data",
          "data": {
            "text/plain": [
              "<Figure size 975x390 with 10 Axes>"
            ],
            "image/png": "[encoded data removed]"
          },
          "metadata": {
            "needs_background": "light"
          }
        }
      ]
    },
    {
      "cell_type": "code",
      "source": [
        "ax2 = pl.subplot()\n",
        "ax2.imshow(P, cmap='Reds')\n",
        "ax2.axis('off')\n",
        "draw_blocks(ax2, P)\n",
        "draw_border(ax2, P)"
      ],
      "metadata": {
        "colab": {
          "base_uri": "https://localhost:8080/",
          "height": 248
        },
        "id": "ya-S0GHALEQL",
        "outputId": "6e833f4c-cbba-4650-c8ac-f68fe89f57b5"
      },
      "execution_count": null,
      "outputs": [
        {
          "output_type": "display_data",
          "data": {
            "text/plain": [
              "<Figure size 432x288 with 1 Axes>"
            ],
            "image/png": "[encoded data removed]"
          },
          "metadata": {
            "needs_background": "light"
          }
        }
      ]
    },
    {
      "cell_type": "code",
      "source": [],
      "metadata": {
        "id": "ZuD9wLzTMnOQ"
      },
      "execution_count": null,
      "outputs": []
    }
  ],
  "metadata": {
    "kernelspec": {
      "display_name": "Python 3",
      "language": "python",
      "name": "python3"
    },
    "language_info": {
      "codemirror_mode": {
        "name": "ipython",
        "version": 3
      },
      "file_extension": ".py",
      "mimetype": "text/x-python",
      "name": "python",
      "nbconvert_exporter": "python",
      "pygments_lexer": "ipython3",
      "version": "3.9.12"
    },
    "colab": {
      "provenance": []
    },
    "accelerator": "GPU",
    "gpuClass": "standard"
  },
  "nbformat": 4,
  "nbformat_minor": 0
}
